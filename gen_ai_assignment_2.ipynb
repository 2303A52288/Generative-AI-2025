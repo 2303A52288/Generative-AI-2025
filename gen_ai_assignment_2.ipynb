{
  "nbformat": 4,
  "nbformat_minor": 0,
  "metadata": {
    "colab": {
      "provenance": [],
      "authorship_tag": "ABX9TyPxzG3N6pnTwS6dE79WqVDy",
      "include_colab_link": true
    },
    "kernelspec": {
      "name": "python3",
      "display_name": "Python 3"
    },
    "language_info": {
      "name": "python"
    }
  },
  "cells": [
    {
      "cell_type": "markdown",
      "metadata": {
        "id": "view-in-github",
        "colab_type": "text"
      },
      "source": [
        "<a href=\"https://colab.research.google.com/github/2303A52288/Generative-AI-2025/blob/main/gen_ai_assignment_2.ipynb\" target=\"_parent\"><img src=\"https://colab.research.google.com/assets/colab-badge.svg\" alt=\"Open In Colab\"/></a>"
      ]
    },
    {
      "cell_type": "markdown",
      "source": [
        "#1 question assignmen 2\n",
        "\n"
      ],
      "metadata": {
        "id": "Wcwbq4GX-5a-"
      }
    },
    {
      "cell_type": "code",
      "source": [
        "from scipy.optimize import linprog\n",
        "\n",
        "\n",
        "c = [-6, -5]\n",
        "\n",
        "\n",
        "A = [[1, 1], [3, 2]]\n",
        "b = [5, 12]\n",
        "x_bounds = (0, None)\n",
        "y_bounds = (0, None)\n",
        "\n",
        "result = linprog(c, A_ub=A, b_ub=b, bounds=[x_bounds, y_bounds], method='simplex')\n",
        "\n",
        "\n",
        "if result.success:\n",
        "    x, y = result.x\n",
        "    print(f\"Optimal production: {x:.2f} units of A, {y:.2f} units of B\")\n",
        "    print(f\"Maximum profit: Rs {result.fun * -1:.2f}\")\n",
        "else:\n",
        "    print(\"No solution found.\")"
      ],
      "metadata": {
        "colab": {
          "base_uri": "https://localhost:8080/"
        },
        "id": "GefvvsfE_WSr",
        "outputId": "9c7cf1e4-2321-4f14-c6ba-ae3c4dbdc566"
      },
      "execution_count": 1,
      "outputs": [
        {
          "output_type": "stream",
          "name": "stdout",
          "text": [
            "Optimal production: 2.00 units of A, 3.00 units of B\n",
            "Maximum profit: Rs 27.00\n"
          ]
        },
        {
          "output_type": "stream",
          "name": "stderr",
          "text": [
            "<ipython-input-1-4e493a429f48>:12: DeprecationWarning: `method='simplex'` is deprecated and will be removed in SciPy 1.11.0. Please use one of the HiGHS solvers (e.g. `method='highs'`) in new code.\n",
            "  result = linprog(c, A_ub=A, b_ub=b, bounds=[x_bounds, y_bounds], method='simplex')\n"
          ]
        }
      ]
    },
    {
      "cell_type": "markdown",
      "source": [
        "#2 question assignment  2"
      ],
      "metadata": {
        "id": "kDVYimmfAHdv"
      }
    },
    {
      "cell_type": "code",
      "source": [
        "from scipy.optimize import linprog\n",
        "\n",
        "\n",
        "c = [-2000, -1200]\n",
        "\n",
        "\n",
        "A = [[1, 1], [7000, 5000], [10, 30]]\n",
        "b = [110, 700000, 1200]\n",
        "\n",
        "x_bounds = (0, None)\n",
        "y_bounds = (0, None)\n",
        "\n",
        "\n",
        "result = linprog(c, A_ub=A, b_ub=b, bounds=[x_bounds, y_bounds], method='simplex')\n",
        "\n",
        "# Output the result\n",
        "if result.success:\n",
        "    x, y = result.x\n",
        "    print(f\"Optimal planting: {x:.2f} hectares of Wheat, {y:.2f} hectares of Barley\")\n",
        "    print(f\"Maximum profit: Rs {result.fun * -1:.2f}\")\n",
        "else:\n",
        "    print(\"No solution found.\")"
      ],
      "metadata": {
        "colab": {
          "base_uri": "https://localhost:8080/"
        },
        "id": "hD--6MxHAm2v",
        "outputId": "48e84ace-004f-4af5-b2a3-14962c65635a"
      },
      "execution_count": 2,
      "outputs": [
        {
          "output_type": "stream",
          "name": "stdout",
          "text": [
            "Optimal planting: 100.00 hectares of Wheat, 0.00 hectares of Barley\n",
            "Maximum profit: Rs 200000.00\n"
          ]
        },
        {
          "output_type": "stream",
          "name": "stderr",
          "text": [
            "<ipython-input-2-b7b3907b90a1>:14: DeprecationWarning: `method='simplex'` is deprecated and will be removed in SciPy 1.11.0. Please use one of the HiGHS solvers (e.g. `method='highs'`) in new code.\n",
            "  result = linprog(c, A_ub=A, b_ub=b, bounds=[x_bounds, y_bounds], method='simplex')\n"
          ]
        }
      ]
    }
  ]
}